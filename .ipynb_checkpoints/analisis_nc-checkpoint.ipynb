{
 "cells": [
  {
   "cell_type": "code",
   "execution_count": null,
   "metadata": {},
   "outputs": [],
   "source": [
    "#%matplotlib notebook"
   ]
  },
  {
   "cell_type": "markdown",
   "metadata": {},
   "source": [
    "## Analizar output.nc"
   ]
  },
  {
   "cell_type": "code",
   "execution_count": 1,
   "metadata": {},
   "outputs": [],
   "source": [
    "# modulos para analizar los datos\n",
    "import os\n",
    "import numpy as np\n",
    "import pandas as pd\n",
    "import xarray as xr\n",
    "import matplotlib.pyplot as plt\n",
    "import matplotlib.cm as cm"
   ]
  },
  {
   "cell_type": "code",
   "execution_count": null,
   "metadata": {},
   "outputs": [],
   "source": [
    "#armar colormap para agua y tierra\n",
    "c_agua=plt.cm.Blues_r(np.linspace(0,0.75,256))\n",
    "c_terr=plt.cm.Greens_r(np.linspace(0,0.75,256))\n",
    "cols = np.vstack((c_agua, c_terr))\n",
    "cmap=cm.colors.LinearSegmentedColormap.from_list(\"q\", cols)"
   ]
  },
  {
   "cell_type": "code",
   "execution_count": null,
   "metadata": {},
   "outputs": [],
   "source": [
    "#archivo nc (grd) a cargar\n",
    "nc_file=r\"G:\\My Drive\\01 UTFSM\\07 Compartidos\\HySea - Resonancia\\Modelos\\[Vale] Tarea01 - Recortado 4 niveles\\test75\\layer01-75.nc\"\n",
    "\n",
    "direccion_actual=os.path.dirname(nc_file)\n",
    "nombre_archivo=os.path.splitext(os.path.basename(nc_file))[0]\n",
    "\n",
    "os.mkdir(direccion_actual+\"//eta\")\n",
    "\n",
    "# ver contenidos archivo nc (grd)\n",
    "data_nc=xr.open_dataset(nc_file)\n",
    "\n",
    "with data_nc as ds:\n",
    "  print(ds.keys()) # muestra contenido del archivo .grd"
   ]
  },
  {
   "cell_type": "code",
   "execution_count": null,
   "metadata": {
    "scrolled": false
   },
   "outputs": [],
   "source": [
    "#Plotear deformed_bathy\n",
    "variable=data_nc.deformed_bathy\n",
    "\n",
    "#divnorm = cm.colors.DivergingNorm(vmin=data_nc.deformed_bathy.min(), vcenter=0, vmax=data_nc.deformed_bathy.max())\n",
    "\n",
    "(variable*-1).plot.contourf(aspect=ds.dims['lon'] / ds.dims['lat'],size=7,cmap=cmap, levels=30)\n",
    "                          #,cmap=cmap,norm=divnorm)   #variable de interes\n",
    "variable.plot.contour(levels=[0,200], colors='k',linewidths=0.4)      #curva de nivel 0 y 200m\n",
    "plt.grid()\n",
    "\n",
    "nombre_variable=variable.name\n",
    "plt.savefig(direccion_actual+'//'+nombre_archivo+'_'+nombre_variable+'.png',dpi=300,bbox_inches = 'tight')"
   ]
  },
  {
   "cell_type": "code",
   "execution_count": null,
   "metadata": {},
   "outputs": [],
   "source": [
    "hmax.rename(\"eta_max\")"
   ]
  },
  {
   "cell_type": "code",
   "execution_count": null,
   "metadata": {
    "scrolled": false
   },
   "outputs": [],
   "source": [
    "data_nc"
   ]
  },
  {
   "cell_type": "code",
   "execution_count": null,
   "metadata": {},
   "outputs": [],
   "source": [
    "#plotear max_height\n",
    "\n",
    "mask_mar=np.isnan(data_nc.deformed_bathy.where(data_nc.deformed_bathy<=0))\n",
    "mask_tierra=np.isnan(data_nc.deformed_bathy.where(data_nc.deformed_bathy>0))\n",
    "\n",
    "p_mar=mask_mar*data_nc.max_height.values\n",
    "p_tierra=mask_tierra*(data_nc.max_height.values+data_nc.deformed_bathy.values)\n",
    "\n",
    "hmax=p_mar+p_tierra\n",
    "hmax.values[hmax==0]=['nan']\n",
    "#data_nc = data_nc.merge(d_max)\n",
    "\n",
    "hmax.rename(\"h_max\").plot.imshow(aspect=ds.dims['lon'] / ds.dims['lat'],size=7)\n",
    "\n",
    "im=data_nc.deformed_bathy.plot.contour(levels=[0,200], colors='k',linewidths=0.4) #curva de nivel 0 y 200m\n",
    "plt.grid()\n",
    "\n",
    "nombre_variable=\"max_height\"\n",
    "#plt.savefig(direccion_actual+'//'+nombre_archivo+'_'+nombre_variable+'.png',dpi=300)"
   ]
  },
  {
   "cell_type": "code",
   "execution_count": null,
   "metadata": {},
   "outputs": [],
   "source": [
    "#Plotear deformacion inicial\n",
    "variable=data_nc.deformed_bathy-data_nc.original_bathy\n",
    "vmax=max(np.abs(variable.values.min()),variable.values.max())\n",
    "\n",
    "divnorm = cm.colors.DivergingNorm(vmin=-vmax,vcenter=0,vmax=vmax)\n",
    "\n",
    "variable.rename(\"def_inicial\").plot.imshow(aspect=ds.dims['lon'] / ds.dims['lat'],size=7,cmap='seismic',norm=divnorm)   #variable de interes\n",
    "data_nc.deformed_bathy.plot.contour(levels=[0,200], colors='k',linewidths=0.4)      #curva de nivel 0 y 200m\n",
    "plt.grid()\n",
    "\n",
    "nombre_variable=\"deformacion_inicial\"\n",
    "\n",
    "plt.savefig(direccion_actual+'//'+nombre_archivo+'_'+nombre_variable+'.png',dpi=300,bbox_inches = 'tight')"
   ]
  },
  {
   "cell_type": "code",
   "execution_count": null,
   "metadata": {
    "scrolled": false
   },
   "outputs": [],
   "source": [
    "#plotear eta en un tiempo dado\n",
    "tiempo=9\n",
    "\n",
    "mask_mar=np.isnan(data_nc.deformed_bathy.where(data_nc.deformed_bathy<=0))\n",
    "mask_tierra=np.isnan(data_nc.deformed_bathy.where(data_nc.deformed_bathy>0))\n",
    "\n",
    "p_mar=mask_mar*data_nc.max_height.values\n",
    "p_tierra=mask_tierra*(data_nc.eta.isel(time=tiempo).values+data_nc.deformed_bathy.values)\n",
    "\n",
    "hmax=p_mar+p_tierra\n",
    "hmax.values[hmax==0]=['nan']\n",
    "\n",
    "hmax.rename(\"eta\").plot.imshow(aspect=ds.dims['lon'] / ds.dims['lat'],size=7)\n",
    "\n",
    "data_nc.deformed_bathy.plot.contour(levels=[0,200], colors='k',linewidths=0.4)      #curva de nivel 0 y 200m\n",
    "plt.grid()\n",
    "\n",
    "nombre_variable='eta_'+str(tiempo)\n",
    "\n",
    "plt.savefig(direccion_actual+'//'+nombre_archivo+'_'+nombre_variable+'.png',dpi=300)"
   ]
  },
  {
   "cell_type": "code",
   "execution_count": null,
   "metadata": {
    "scrolled": false
   },
   "outputs": [],
   "source": [
    "#Plotear todos los eta\n",
    "\n",
    "divnorm = cm.colors.DivergingNorm(vmin=-40,vcenter=0,vmax=40)\n",
    "\n",
    "j=0\n",
    "for i in data_nc.eta.time.values:\n",
    "    mask_mar=np.isnan(data_nc.deformed_bathy.where(data_nc.deformed_bathy<=0))\n",
    "    mask_tierra=np.isnan(data_nc.deformed_bathy.where(data_nc.deformed_bathy>0))\n",
    "\n",
    "    p_mar=mask_mar*data_nc.eta.isel(time=j).values\n",
    "    p_tierra=mask_tierra*(data_nc.eta.isel(time=j).values+data_nc.deformed_bathy.values)\n",
    "\n",
    "    hmax=p_mar+p_tierra\n",
    "    hmax.values[hmax==0]=['nan']\n",
    "    hmax.rename('eta_'+str(j)).plot.imshow(aspect=ds.dims['lon'] / ds.dims['lat'],size=7,cmap=\"coolwarm\",norm=divnorm)\n",
    "    data_nc.deformed_bathy.plot.contour(levels=[0,200], colors='k',linewidths=0.4)      #curva de nivel 0 y 200m\n",
    "    plt.grid()\n",
    "    \n",
    "    nombre_variable='eta_'+str(j).zfill(2)\n",
    "    plt.savefig(direccion_actual+'//eta//'+nombre_archivo+'_'+nombre_variable+'.png',dpi=100)\n",
    "    plt.close()\n",
    "    j=j+1"
   ]
  },
  {
   "cell_type": "code",
   "execution_count": null,
   "metadata": {},
   "outputs": [],
   "source": [
    "#Genera gif\n",
    "import imageio\n",
    "\n",
    "png_dir = direccion_actual+\"//eta\"\n",
    "images = []\n",
    "for file_name in os.listdir(png_dir):\n",
    "    if file_name.endswith('.png'):\n",
    "        print(file_name)\n",
    "        file_path = os.path.join(png_dir, file_name)\n",
    "        images.append(imageio.imread(file_path))\n",
    "imageio.mimsave(direccion_actual+'//'+\"tst.gif\", images,fps=5)"
   ]
  },
  {
   "cell_type": "markdown",
   "metadata": {},
   "source": [
    "## Analizar boyas (serie de tiempo)"
   ]
  },
  {
   "cell_type": "code",
   "execution_count": 2,
   "metadata": {},
   "outputs": [
    {
     "name": "stdout",
     "output_type": "stream",
     "text": [
      "KeysView(<xarray.Dataset>\n",
      "Dimensions:         (grid_npoints: 11, time: 18020)\n",
      "Coordinates:\n",
      "  * time            (time) datetime64[ns] 1970-01-01 ... 1970-01-01\n",
      "Dimensions without coordinates: grid_npoints\n",
      "Data variables:\n",
      "    deformed_bathy  (grid_npoints) float64 ...\n",
      "    longitude       (grid_npoints) float64 ...\n",
      "    latitude        (grid_npoints) float64 ...\n",
      "    min_height      (grid_npoints) float64 ...\n",
      "    max_height      (grid_npoints) float64 ...\n",
      "    eta             (time, grid_npoints) float64 ...\n",
      "    ux              (time, grid_npoints) float64 ...\n",
      "    uy              (time, grid_npoints) float64 ...\n",
      "Attributes:\n",
      "    Conventions:                    CF-1.0\n",
      "    title:                          Time series output of TsunamiHySEA model\n",
      "    creator_name:                   EDANYA Group\n",
      "    institution:                    University of Malaga\n",
      "    comments:                       No paper\n",
      "    references:                     http://path.to.paper/paper.pdf\n",
      "    history:                        2020-07-21 02:57:44\n",
      "    grid_name:                      Tarea01_config1\n",
      "    simulation_time:                18020.0\n",
      "    CFL:                            0.5\n",
      "    epsilon_h:                      0.005\n",
      "    water_bottom_friction:          0.015\n",
      "    max_speed_water:                100.0\n",
      "    threshold_2swaf:                20.0\n",
      "    stability_coefficient_level_0:  0.19999999999999996\n",
      "    stability_coefficient_level_1:  0.19999999999999996\n",
      "    stability_coefficient_level_2:  0.19999999999999996\n",
      "    stability_coefficient_level_3:  0.19999999999999996)\n"
     ]
    }
   ],
   "source": [
    "#Plotear info boyas\n",
    "#archivo nc (grd) a cargar\n",
    "nc_boya=r\"Z:\\00 Memoria\\Modelos HySea\\tarea01\\modelos\\mw_4l\\4l_mw75\\out_18000\\layer01_ts.nc\"\n",
    "\n",
    "# ver contenidos archivo nc (grd)\n",
    "data_boya=xr.open_dataset(nc_boya)\n",
    "\n",
    "with data_boya as ds_b:\n",
    "  print(ds_b.keys()) # muestra contenido del archivo .grd"
   ]
  },
  {
   "cell_type": "code",
   "execution_count": null,
   "metadata": {},
   "outputs": [],
   "source": [
    "grid"
   ]
  },
  {
   "cell_type": "code",
   "execution_count": 8,
   "metadata": {
    "scrolled": true
   },
   "outputs": [
    {
     "data": {
      "image/png": "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\n",
      "text/plain": [
       "<Figure size 648x216 with 1 Axes>"
      ]
     },
     "metadata": {
      "needs_background": "light"
     },
     "output_type": "display_data"
    }
   ],
   "source": [
    "#agregar variable tiempo en minutos (time_min)\n",
    "time_min=(data_boya.time-data_boya.time[0])/ pd.Timedelta(\"1m\")\n",
    "data_boya = data_boya.assign_coords(time_min=(\"time\", time_min))\n",
    "\n",
    "#boyas=data_boya.grid_npoints.values  #todas\n",
    "boyas=[0,1] #las de la lista solamente (de 0 a nboyas)\n",
    "data_boya.eta.isel(grid_npoints=boyas).plot.line(x='time_min',aspect=3,size=3)\n",
    "plt.legend(boyas)\n",
    "plt.tight_layout()\n",
    "plt.grid()\n"
   ]
  },
  {
   "cell_type": "code",
   "execution_count": null,
   "metadata": {},
   "outputs": [],
   "source": [
    "#plotea todas las boyas"
   ]
  },
  {
   "cell_type": "markdown",
   "metadata": {},
   "source": [
    "## Pruebas"
   ]
  },
  {
   "cell_type": "code",
   "execution_count": null,
   "metadata": {},
   "outputs": [],
   "source": [
    "list_variables=list(data_nc.keys())\n",
    "i=0\n",
    "for j in list_variables:\n",
    "    i=i+1\n",
    "    print('['+str(i)+']: '+str(j))"
   ]
  },
  {
   "cell_type": "code",
   "execution_count": null,
   "metadata": {},
   "outputs": [],
   "source": [
    "hola='deformed_bathy'\n",
    "data_nc.hola"
   ]
  },
  {
   "cell_type": "code",
   "execution_count": null,
   "metadata": {},
   "outputs": [],
   "source": [
    "#plotea variable que se anote en z\n",
    "\n",
    "z=data_bati.deformed_bathy-data_bati.original_bathy\n",
    "\n",
    "z.plot.imshow( #tamaño de la imagen (pulgadas)\n",
    "    aspect=ds.dims['lon'] / ds.dims['lat'], #aspect ratio, deja la escala horizontal igual a la vertical\n",
    "size=5)\n",
    "\n",
    "#z.plot.contour(levels=[0], colors='k',linewidths=0.4) #curva de nivel )\n",
    "\n",
    "plt.tight_layout()\n",
    "plt.grid()"
   ]
  },
  {
   "cell_type": "code",
   "execution_count": null,
   "metadata": {},
   "outputs": [],
   "source": [
    "#archivo nc (grd) a cargar\n",
    "nc_file=r\"Z:\\00 Memoria\\Modelos HySea\\Config1\\bat_l0_gebco_30sa_chilecont_v2.grd\"\n",
    "\n",
    "# ver contenidos archivo nc (grd)\n",
    "data_bati=xr.open_dataset(nc_file)\n",
    "\n",
    "with data_bati as ds:\n",
    "  print(ds.keys()) # muestra contenido del archivo .grd\n",
    "\n",
    "#plotea variable que se anote en z\n",
    "\n",
    "z=data_bati.z\n",
    "\n",
    "z.plot.imshow( #tamaño de la imagen (pulgadas)\n",
    "    aspect=ds.dims['x'] / ds.dims['y'], #aspect ratio, deja la escala horizontal igual a la vertical\n",
    "size=5)\n",
    "\n",
    "z.plot.contour(levels=[0], colors='k',linewidths=0.4) #curva de nivel )\n",
    "\n",
    "plt.tight_layout()\n",
    "plt.grid()"
   ]
  },
  {
   "cell_type": "code",
   "execution_count": null,
   "metadata": {},
   "outputs": [],
   "source": [
    "#archivo nc (grd) a cargar\n",
    "nc_file=r\"Z:\\00 Memoria\\Modelos HySea\\Config1\\bat_l0_gebco_30sa_chilecont_v2.grd\"\n",
    "\n",
    "# ver contenidos archivo nc (grd)\n",
    "data_bati=xr.open_dataset(nc_file)\n",
    "\n",
    "with data_bati as ds:\n",
    "  print(ds.keys()) # muestra contenido del archivo .grd\n",
    "\n",
    "#plotea variable que se anote en z\n",
    "\n",
    "z=data_bati.z\n",
    "\n",
    "z.plot.imshow( #tamaño de la imagen (pulgadas)\n",
    "    aspect=ds.dims['x'] / ds.dims['y'], #aspect ratio, deja la escala horizontal igual a la vertical\n",
    "size=5)\n",
    "\n",
    "z.plot.contour(levels=[0], colors='k',linewidths=0.4) #curva de nivel )\n",
    "\n",
    "plt.tight_layout()\n",
    "plt.grid()"
   ]
  },
  {
   "cell_type": "code",
   "execution_count": null,
   "metadata": {},
   "outputs": [],
   "source": [
    "#archivo nc (grd) a cargar\n",
    "def_file=r\"Z:\\00 Memoria\\HySea - Modelos\\ejemplo_chile_1l\\ejemplo_chile\\def_2015.grd\"\n",
    "\n",
    "# ver contenidos archivo nc (grd)\n",
    "data_def=xr.open_dataset(def_file)\n",
    "\n",
    "with data_def as ds:\n",
    "  print(ds.keys()) # muestra contenido del archivo .grd"
   ]
  },
  {
   "cell_type": "code",
   "execution_count": null,
   "metadata": {},
   "outputs": [],
   "source": [
    "#no esta terminado\n",
    "\n",
    "import sys\n",
    "sys.stdout = open(1, 'w')  #muestra en la ventana de comandos los click\n",
    "\n",
    "fig, axes = plt.subplots()    \n",
    "    \n",
    "data_def.z.plot.imshow(\n",
    "    #size=5 #tamaño de la imagen (pulgadas)\n",
    "    #,aspect=ds.dims['x'] / ds.dims['y'] #aspect ratio, aqui la escala horizontal queda igual a la vertic)\n",
    "    ax=axes\n",
    ")\n",
    "data_bati.z.plot.contour(levels=[0], colors='k',linewidths=0.4,ax=axes) #curva de nivel\n",
    "\n",
    "def onclick(event):\n",
    "    print('%s click: button=%d, x=%d, y=%d, xdata=%f, ydata=%f' %\n",
    "          ('double' if event.dblclick else 'single', event.button,\n",
    "           event.x, event.y, event.xdata, event.ydata))\n",
    "\n",
    "cid = fig.canvas.mpl_connect('button_press_event', onclick)\n",
    "\n",
    "plt.grid()\n",
    "plt.tight_layout()\n",
    "axes.axis(\"scaled\")\n",
    "plt.show()"
   ]
  },
  {
   "cell_type": "code",
   "execution_count": null,
   "metadata": {},
   "outputs": [],
   "source": [
    "data_nc.deformed_bathy.where(data_nc.deformed_bathy>0).plot.imshow(cmap='Blues')"
   ]
  },
  {
   "cell_type": "code",
   "execution_count": null,
   "metadata": {},
   "outputs": [],
   "source": [
    "data_nc.deformed_bathy.where(data_nc.deformed_bathy<=0).plot.imshow(cmap='Greens')"
   ]
  },
  {
   "cell_type": "code",
   "execution_count": null,
   "metadata": {},
   "outputs": [],
   "source": [
    "mask_tierra=np.isnan(data_nc.deformed_bathy.where(data_nc.deformed_bathy>0))\n",
    "mask_tierra.plot()"
   ]
  },
  {
   "cell_type": "code",
   "execution_count": null,
   "metadata": {},
   "outputs": [],
   "source": [
    "mask_mar=np.isnan(data_nc.deformed_bathy.where(data_nc.deformed_bathy<=0))\n",
    "mask_mar.plot()"
   ]
  },
  {
   "cell_type": "code",
   "execution_count": null,
   "metadata": {
    "scrolled": true
   },
   "outputs": [],
   "source": [
    "p_tierra=mask_tierra*(data_nc.max_height.values+data_nc.deformed_bathy.values)\n",
    "p_tierra.plot.imshow()"
   ]
  },
  {
   "cell_type": "code",
   "execution_count": null,
   "metadata": {},
   "outputs": [],
   "source": [
    "p_mar=mask_mar*data_nc.max_height.values\n",
    "p_mar.plot.imshow()"
   ]
  },
  {
   "cell_type": "code",
   "execution_count": null,
   "metadata": {},
   "outputs": [],
   "source": [
    "hmax=p_mar+p_tierra\n",
    "hmax.values[hmax==0]=['nan']\n",
    "hmax.plot.imshow()"
   ]
  },
  {
   "cell_type": "code",
   "execution_count": null,
   "metadata": {},
   "outputs": [],
   "source": [
    "data_nc.deformed_bathy.plot()"
   ]
  },
  {
   "cell_type": "code",
   "execution_count": null,
   "metadata": {},
   "outputs": [],
   "source": [
    "import imageio"
   ]
  },
  {
   "cell_type": "code",
   "execution_count": null,
   "metadata": {},
   "outputs": [],
   "source": [
    "import os\n",
    "import imageio\n",
    "\n",
    "png_dir = direccion_actual\n",
    "images = []\n",
    "for file_name in os.listdir(png_dir):\n",
    "    if file_name.endswith('.png'):\n",
    "        file_path = os.path.join(png_dir, file_name)\n",
    "        images.append(imageio.imread(file_path))\n",
    "imageio.mimsave(direccion_actual+'//'+\"tst.gif\", images)"
   ]
  },
  {
   "cell_type": "code",
   "execution_count": null,
   "metadata": {},
   "outputs": [],
   "source": [
    "conda install imageio-ffmpeg"
   ]
  },
  {
   "cell_type": "code",
   "execution_count": null,
   "metadata": {},
   "outputs": [],
   "source": [
    "import pandas as pd\n",
    "\n",
    "df = pd.read_csv(r\"C:\\Users\\madia\\Desktop\\4l_r\\c\\y2C_85.txt\")\n",
    "df.head(2).to_csv(r\"C:\\Users\\madia\\Desktop\\4l_r\\c\\y2C_85.txt\")"
   ]
  },
  {
   "cell_type": "code",
   "execution_count": null,
   "metadata": {},
   "outputs": [],
   "source": []
  }
 ],
 "metadata": {
  "kernelspec": {
   "display_name": "Python 3",
   "language": "python",
   "name": "python3"
  },
  "language_info": {
   "codemirror_mode": {
    "name": "ipython",
    "version": 3
   },
   "file_extension": ".py",
   "mimetype": "text/x-python",
   "name": "python",
   "nbconvert_exporter": "python",
   "pygments_lexer": "ipython3",
<<<<<<< Updated upstream
   "version": "3.8.3"
=======
   "version": "3.7.6"
>>>>>>> Stashed changes
  }
 },
 "nbformat": 4,
 "nbformat_minor": 4
}
