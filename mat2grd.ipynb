{
 "cells": [
  {
   "cell_type": "markdown",
   "metadata": {},
   "source": [
    "genera bati .grd de archivo.mat"
   ]
  },
  {
   "cell_type": "code",
   "execution_count": 111,
   "metadata": {},
   "outputs": [],
   "source": [
    "from scipy.io import loadmat\n",
    "import xarray as xr\n",
    "import numpy as np\n",
    "import matplotlib.pyplot as plt"
   ]
  },
  {
   "cell_type": "code",
   "execution_count": 112,
   "metadata": {},
   "outputs": [],
   "source": [
    "#archivo .mat\n",
    "mat_file=r\"G:\\My Drive\\01 UTFSM\\04 Memoria\\06 HDD\\Batimetrias\\bat_IV_region\\bat_l3_iv_region_sur_1sa.mat\"\n",
    "mat_data = loadmat(mat_file) #carga archivo .mat"
   ]
  },
  {
   "cell_type": "code",
   "execution_count": 113,
   "metadata": {},
   "outputs": [
    {
     "name": "stdout",
     "output_type": "stream",
     "text": [
      "__header__ \t b'MATLAB 5.0 MAT-file, Platform: PCWIN64, Created on: Fri Aug 17 16:33:52 2018'\n",
      "__version__ \t 1.0\n",
      "__globals__ \t []\n",
      "bat \t [[ 288.1         -30.877      1851.92567484]\n",
      " [ 288.1         -30.87727778 1852.33640478]\n",
      " [ 288.1         -30.87755556 1852.92509624]\n",
      " ...\n",
      " [ 288.7         -32.45561111  -30.        ]\n",
      " [ 288.7         -32.45588889  -30.        ]\n",
      " [ 288.7         -32.45616667  -30.        ]]\n"
     ]
    }
   ],
   "source": [
    "# ver contenidos (key) del archivo .mat\n",
    "#por ejemplo para cargar variable 'bat': mat_data['bat']\n",
    "for key in mat_data.keys():\n",
    "    print(key,'\\t',mat_data[key])"
   ]
  },
  {
   "cell_type": "code",
   "execution_count": 114,
   "metadata": {},
   "outputs": [],
   "source": [
    "x=mat_data['bat'][:,0]\n",
    "y=mat_data['bat'][:,1]\n",
    "z=mat_data['bat'][:,2]"
   ]
  },
  {
   "cell_type": "code",
   "execution_count": 116,
   "metadata": {},
   "outputs": [],
   "source": [
    "xs,xi=np.unique(x,return_inverse=True)\n",
    "ys,yi=np.unique(y,return_inverse=True)\n",
    "z=np.array(z)\n",
    "Z=accum(np.array(list(zip(yi,xi))), z,func=None,size=None,fill_value=np.nan,dtype=float)\n",
    "Z=np.flipud(Z)\n",
    "X,Y=np.meshgrid(xs,np.flipud(ys))"
   ]
  },
  {
   "cell_type": "code",
   "execution_count": null,
   "metadata": {},
   "outputs": [],
   "source": []
  },
  {
   "cell_type": "code",
   "execution_count": 106,
   "metadata": {},
   "outputs": [
    {
     "data": {
      "text/plain": [
       "<matplotlib.collections.PathCollection at 0x1b0b73a92c8>"
      ]
     },
     "execution_count": 106,
     "metadata": {},
     "output_type": "execute_result"
    },
    {
     "data": {
      "image/png": "[encoded data removed]",
      "text/plain": [
       "<Figure size 432x288 with 1 Axes>"
      ]
     },
     "metadata": {
      "needs_background": "light"
     },
     "output_type": "display_data"
    }
   ],
   "source": [
    "x = [1,1,2,2,2,3,3]\n",
    "y = [1,2,1,2,3,1,3]\n",
    "z = [1,2,4,5,6,7,9]\n",
    "\n",
    "plt.scatter(x,y,c=z,s=500)"
   ]
  },
  {
   "cell_type": "code",
   "execution_count": 107,
   "metadata": {},
   "outputs": [],
   "source": [
    "xs,xi=np.unique(x,return_inverse=True)\n",
    "ys,yi=np.unique(y,return_inverse=True)\n",
    "z=np.array(z)\n",
    "\n",
    "Z=accum(np.array(list(zip(yi,xi))), z,func=None,size=None,fill_value=np.nan,dtype=float)\n",
    "Z=np.flipud(Z)\n",
    "X,Y=np.meshgrid(xs,np.flipud(ys))"
   ]
  },
  {
   "cell_type": "code",
   "execution_count": 117,
   "metadata": {},
   "outputs": [
    {
     "data": {
      "text/plain": [
       "<matplotlib.contour.QuadContourSet at 0x1b0b558a208>"
      ]
     },
     "execution_count": 117,
     "metadata": {},
     "output_type": "execute_result"
    },
    {
     "data": {
      "image/png": "[encoded data removed]",
      "text/plain": [
       "<Figure size 432x288 with 1 Axes>"
      ]
     },
     "metadata": {
      "needs_background": "light"
     },
     "output_type": "display_data"
    }
   ],
   "source": [
    "plt.contourf(X,Y,Z)"
   ]
  },
  {
   "cell_type": "code",
   "execution_count": 110,
   "metadata": {},
   "outputs": [
    {
     "data": {
      "text/plain": [
       "<matplotlib.image.AxesImage at 0x1b0b558d088>"
      ]
     },
     "execution_count": 110,
     "metadata": {},
     "output_type": "execute_result"
    },
    {
     "data": {
      "image/png": "[encoded data removed]",
      "text/plain": [
       "<Figure size 432x288 with 1 Axes>"
      ]
     },
     "metadata": {
      "needs_background": "light"
     },
     "output_type": "display_data"
    }
   ],
   "source": [
    "plt.imshow(Z)"
   ]
  },
  {
   "cell_type": "code",
   "execution_count": 99,
   "metadata": {},
   "outputs": [],
   "source": [
    "X,Y=np.meshgrid(xs,np.flipud(ys))"
   ]
  },
  {
   "cell_type": "code",
   "execution_count": 102,
   "metadata": {},
   "outputs": [
    {
     "data": {
      "text/plain": [
       "<matplotlib.image.AxesImage at 0x1b0b6be6948>"
      ]
     },
     "execution_count": 102,
     "metadata": {},
     "output_type": "execute_result"
    },
    {
     "data": {
      "image/png": "[encoded data removed]",
      "text/plain": [
       "<Figure size 432x288 with 1 Axes>"
      ]
     },
     "metadata": {
      "needs_background": "light"
     },
     "output_type": "display_data"
    }
   ],
   "source": [
    "plt.imshow(Z)"
   ]
  }
 ],
 "metadata": {
  "kernelspec": {
   "display_name": "Python 3",
   "language": "python",
   "name": "python3"
  },
  "language_info": {
   "codemirror_mode": {
    "name": "ipython",
    "version": 3
   },
   "file_extension": ".py",
   "mimetype": "text/x-python",
   "name": "python",
   "nbconvert_exporter": "python",
   "pygments_lexer": "ipython3",
   "version": "3.7.6"
  }
 },
 "nbformat": 4,
 "nbformat_minor": 4
}
