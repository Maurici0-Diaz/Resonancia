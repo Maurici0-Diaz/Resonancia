{
 "cells": [
  {
   "cell_type": "code",
   "execution_count": 1,
   "metadata": {},
   "outputs": [],
   "source": [
    "from scipy.io import loadmat\n",
    "import xarray as xr\n",
    "import numpy as np\n",
    "import matplotlib.pyplot as plt\n",
    "from xyztools import xyz2grid, xyz2grd\n",
    "import os"
   ]
  },
  {
   "cell_type": "markdown",
   "metadata": {},
   "source": [
    "### Genera bati .grd de archivo.mat"
   ]
  },
  {
   "cell_type": "code",
   "execution_count": 2,
   "metadata": {},
   "outputs": [],
   "source": [
    "#archivo .mat\n",
    "mat_file=r\"G:\\My Drive\\01 UTFSM\\04 Memoria\\06 HDD\\Batimetrias\\CIGIDEN-Batimetrias-v1\\CIGIDEN-Batimetrias-v1\\V-Vina-Valpo-ConCon-SanAntonio_v3_gebco2019\\bat_l2_quin2sano_sinmolo_3sa.mat\"\n",
    "mat_data = loadmat(mat_file) #carga archivo .mat"
   ]
  },
  {
   "cell_type": "code",
   "execution_count": 3,
   "metadata": {},
   "outputs": [
    {
     "name": "stdout",
     "output_type": "stream",
     "text": [
      "__header__ \t b'MATLAB 5.0 MAT-file, Platform: PCWIN64, Created on: Wed May 30 00:41:12 2018'\n",
      "__version__ \t 1.0\n",
      "__globals__ \t []\n",
      "bat \t [[ 287.5         -32.3        4941.64186028]\n",
      " [ 287.5         -32.30083333 4952.59111547]\n",
      " [ 287.5         -32.30166667 4963.54037066]\n",
      " ...\n",
      " [ 288.925       -34.09833333 -566.9867688 ]\n",
      " [ 288.925       -34.09916667 -563.24103881]\n",
      " [ 288.925       -34.1        -559.49530882]]\n"
     ]
    }
   ],
   "source": [
    "# ver contenidos (key) del archivo .mat\n",
    "#por ejemplo para cargar variable 'bat': mat_data['bat']\n",
    "for key in mat_data.keys():\n",
    "    print(key,'\\t',mat_data[key])\n",
    "    \n",
    "#separa en vectores x,y,z\n",
    "x=mat_data['bat'][:,0]\n",
    "y=mat_data['bat'][:,1]\n",
    "z=mat_data['bat'][:,2]\n",
    "\n",
    "#genera dataset desde vectores x, y, z\n",
    "grd=xyz2grd(x,y,-z)\n",
    "\n",
    "print(grd) #muestra info\n",
    "grd.z.plot.imshow(aspect=grd.dims['x'] / grd.dims['y'],size=7) #plotea\n",
    "\n",
    "# guarda archivo grd\n",
    "savedir=r'G:\\My Drive\\01 UTFSM\\04 Memoria\\06 HDD\\Batimetrias\\CIGIDEN-Batimetrias-v1\\CIGIDEN-Batimetrias-v1\\V-Vina-Valpo-ConCon-SanAntonio_v3_gebco2019'\n",
    "\n",
    "savename=os.path.splitext(os.path.basename(mat_file))[0] #nombre de archivo es el mismo que el archivo mat original\n",
    "grd.to_netcdf(os.path.join(savedir,savename+'.grd'),format='NETCDF3_CLASSIC') #guarda el arvhivo con formato grd"
   ]
  },
  {
   "cell_type": "markdown",
   "metadata": {},
   "source": [
    "### Transforma todos los archivos. mat en una carpeta dada y los guarda como .grd en la misma carpeta"
   ]
  },
  {
   "cell_type": "code",
   "execution_count": 2,
   "metadata": {},
   "outputs": [
    {
     "name": "stdout",
     "output_type": "stream",
     "text": [
      "bat_l1_gebco_15sa_chilecont_v4_norte.mat\n"
     ]
    }
   ],
   "source": [
    "mat_dir=r'G:\\My Drive\\01 UTFSM\\04 Memoria\\06 HDD\\Batimetrias\\CIGIDEN-Batimetrias-v1\\CIGIDEN-Batimetrias-v1'\n",
    "\n",
    "#estas lineas muestran archivos .mat en la carpeta, solo para verificar contenidos\n",
    "for file in os.listdir(mat_dir):\n",
    "    if file.endswith(\".mat\"):\n",
    "        print(file)"
   ]
  },
  {
   "cell_type": "code",
   "execution_count": null,
   "metadata": {},
   "outputs": [],
   "source": [
    "for file in os.listdir(mat_dir):\n",
    "    if file.endswith(\".mat\"):\n",
    "        print(file)\n",
    "        mat_data = loadmat(os.path.join(mat_dir,file))\n",
    "        \n",
    "        #separa en vectores x,y,z\n",
    "        x=mat_data['bat'][:,0]\n",
    "        y=mat_data['bat'][:,1]\n",
    "        z=mat_data['bat'][:,2]\n",
    "        \n",
    "        grd=xyz2grd(x,y,-z)\n",
    "        print(grd) #muestra info\n",
    "        print()\n",
    "        \n",
    "        savedir=mat_dir\n",
    "        savename=os.path.splitext(os.path.basename(file))[0] #nombre de archivo es el mismo que el archivo mat original\n",
    "        grd.to_netcdf(os.path.join(savedir,savename+'.grd'),format='NETCDF3_CLASSIC') #guarda el arvhivo con formato grd"
   ]
  },
  {
   "cell_type": "markdown",
   "metadata": {},
   "source": [
    "### Transforma todos los archivos .txt en una carpeta dada y los guarda como .grd en la misma carpeta"
   ]
  },
  {
   "cell_type": "code",
   "execution_count": 2,
   "metadata": {},
   "outputs": [
    {
     "name": "stdout",
     "output_type": "stream",
     "text": [
      "malla1s_San_Antonio.txt\n"
     ]
    }
   ],
   "source": [
    "mat_dir=r'G:\\My Drive\\01 UTFSM\\04 Memoria\\06 HDD\\Batimetrias\\06-BatisSHOA-20200812T204418Z-001\\06-BatisSHOA\\DATA_UFSM'\n",
    "\n",
    "#estas lineas muestran archivos .mat en la carpeta, solo para verificar contenidos\n",
    "for file in os.listdir(mat_dir):\n",
    "    if file.endswith(\".txt\"):\n",
    "        print(file)"
   ]
  },
  {
   "cell_type": "code",
   "execution_count": 2,
   "metadata": {},
   "outputs": [
    {
     "name": "stdout",
     "output_type": "stream",
     "text": [
      "<xarray.Dataset>\n",
      "Dimensions:  (x: 237, y: 181)\n",
      "Coordinates:\n",
      "  * x        (x) float64 288.3 288.3 288.3 288.3 ... 288.4 288.4 288.4 288.4\n",
      "  * y        (y) float64 -33.57 -33.57 -33.57 -33.57 ... -33.62 -33.62 -33.62\n",
      "Data variables:\n",
      "    z        (y, x) float64 -203.5 -192.0 -175.3 -158.9 ... 59.76 60.15 60.43\n",
      "\n"
     ]
    }
   ],
   "source": [
    "#archivo .xyz es un archivo .txt con trs columnas: x, y, z\n",
    "xyz_file=r\"G:\\My Drive\\01 UTFSM\\04 Memoria\\06 HDD\\Batimetrias\\06-BatisSHOA-20200812T204418Z-001\\06-BatisSHOA\\DATA_UFSM\\malla1s_San_Antonio.txt\"\n",
    "\n",
    "coords=[] # aqui se guardaran las coordenadas del archivo .xy\n",
    "with open(xyz_file, 'r') as reader: # abre el archivo\n",
    "    for line in reader.readlines(): # para cada linea, saltandose la primera\n",
    "        line = line.replace('\\n','') # quita saltos de linea\n",
    "        #line = line.replace('  ','')\n",
    "        line=line.rsplit(sep='\\t') # Separa la linea en donde haya espacios\n",
    "        coords.append(line) #agrega las coordenadas (texto a la lista coords)\n",
    "        #print(line)\n",
    "\n",
    "coords=np.array(coords) # transforma la lista a formato np.array\n",
    "coords=coords.astype(np.float64) # pasa de sting a numero (float)\n",
    "\n",
    "x=coords[:,0]\n",
    "y=coords[:,1]\n",
    "z=coords[:,2]\n",
    "\n",
    "grd=xyz2grd(x,y,-z)\n",
    "print(grd) #muestra info\n",
    "print()\n",
    "\n",
    "savedir=os.path.dirname(xyz_file)\n",
    "savename=os.path.splitext(os.path.basename(xyz_file))[0] #nombre de archivo es el mismo que el archivo original\n",
    "grd.to_netcdf(os.path.join(savedir,savename+'.grd'),format='NETCDF3_CLASSIC') #guarda el arvhivo con formato grd"
   ]
  },
  {
   "cell_type": "code",
   "execution_count": null,
   "metadata": {},
   "outputs": [],
   "source": []
  }
 ],
 "metadata": {
  "kernelspec": {
   "display_name": "Python 3",
   "language": "python",
   "name": "python3"
  },
  "language_info": {
   "codemirror_mode": {
    "name": "ipython",
    "version": 3
   },
   "file_extension": ".py",
   "mimetype": "text/x-python",
   "name": "python",
   "nbconvert_exporter": "python",
   "pygments_lexer": "ipython3",
   "version": "3.8.3"
  }
 },
 "nbformat": 4,
 "nbformat_minor": 4
}
