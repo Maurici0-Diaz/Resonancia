{
 "cells": [
  {
   "cell_type": "code",
   "execution_count": 90,
   "metadata": {
    "execution": {
     "iopub.execute_input": "2020-08-31T19:49:26.282844Z",
     "iopub.status.busy": "2020-08-31T19:49:26.281844Z",
     "iopub.status.idle": "2020-08-31T19:49:26.328844Z",
     "shell.execute_reply": "2020-08-31T19:49:26.324846Z",
     "shell.execute_reply.started": "2020-08-31T19:49:26.282844Z"
    }
   },
   "outputs": [],
   "source": [
    "import os\n",
    "from leer_txt import leer_txt\n",
    "\n",
    "def genera_config_txt(txt_deformacion,config_base):    \n",
    "    # Guarda el archivo en la misma direccion que el\n",
    "    # archivo de configuracion base\n",
    "    save_dir=os.path.dirname(config_base) \n",
    "    basename=os.path.basename(txt_deformacion)\n",
    "    save_name=os.path.splitext(basename)[0].replace('.','')\n",
    "    \n",
    "    #direccion completa de guardado (incl. nombre de archivo)\n",
    "    config_txt=os.path.join(save_dir,'config_'+save_name+'.txt')\n",
    "    \n",
    "    lineas_base=leer_txt(config_base)\n",
    "    lineas_deformacion=leer_txt(txt_deformacion)\n",
    "    n_faults=len(lineas_deformacion) #Numero de fallas \n",
    "    linea_nfallas=4 # Linea del archivo config con cantidad de fallas\n",
    "    \n",
    "    # Agrega cantidad de fallas a la linea correspondiente\n",
    "    lineas_base[linea_nfallas]=str(n_faults)+lineas_base[linea_nfallas]\n",
    "    \n",
    "    # Agrega lineas de deformacion\n",
    "    linea_base_def=5 # Linea en donde comienzan a anotarse las deformaciones\n",
    "    del(lineas_base[linea_base_def])\n",
    "    i=0\n",
    "    for line in lineas_deformacion:\n",
    "        lineas_base.insert(i+linea_base_def,line)\n",
    "        i=i+1\n",
    "    \n",
    "    # Escribe el archivo .txt\n",
    "    with open(config_txt, 'w', newline='\\n') as writer:\n",
    "        for linea in lineas_base:\n",
    "            writer.write(linea+'\\n')\n",
    "\n",
    "    print(config_txt) # muestra la ubicacion del archivo creado\n",
    "    return config_txt\n",
    "    \n",
    "def genera_sh(sh_base,config):\n",
    "    \n",
    "    save_dir=os.path.dirname(sh_base)\n",
    "    \n",
    "    # Mismo nombre que archivo de config, solo que cambia \"config_\" por \"run_\"\n",
    "    config_name=os.path.basename(config)\n",
    "    savename=(os.path.splitext(config_name)[0]).split('_')[1]\n",
    "    \n",
    "    #direccion completa de guardado\n",
    "    sh_nuevo=os.path.join(save_dir,'run_'+savename+'.sh')\n",
    "    \n",
    "    lineas_sh=leer_txt(sh_base)\n",
    "    \n",
    "    #borra las dos ultimas lineas y agrega nombre de archivo config\n",
    "    del(lineas_sh[-2:])\n",
    "    lineas_finales=['get_load_balancing-1\\t\\t'+config_name+' 1 1',\n",
    "                    'mpiexec TsunamiHySEA-gpuk-1\\t'+config_name]\n",
    "    lineas_sh.extend(lineas_finales)\n",
    "    \n",
    "    with open(sh_nuevo, 'w', newline='\\n') as writer:\n",
    "        for linea in lineas_sh:\n",
    "            writer.write(linea+'\\n')\n",
    "    \n",
    "    print(sh_nuevo)\n",
    "    return sh_nuevo\n",
    "    "
   ]
  },
  {
   "cell_type": "code",
   "execution_count": 91,
   "metadata": {
    "execution": {
     "iopub.execute_input": "2020-08-31T19:49:26.857736Z",
     "iopub.status.busy": "2020-08-31T19:49:26.856745Z",
     "iopub.status.idle": "2020-08-31T19:49:26.952747Z",
     "shell.execute_reply": "2020-08-31T19:49:26.946734Z",
     "shell.execute_reply.started": "2020-08-31T19:49:26.857736Z"
    }
   },
   "outputs": [
    {
     "name": "stdout",
     "output_type": "stream",
     "text": [
      "G:\\My Drive\\UTFSM\\memoria\\tareas\\tarea03\\tst\\config_z2ap000020.txt\n"
     ]
    }
   ],
   "source": [
    "#archivos de input\n",
    "txt_deformacion=r\"G:\\My Drive\\UTFSM\\memoria\\tareas\\tarea03\\tst\\z2ap.000020.txt\"\n",
    "config_base=r\"G:\\My Drive\\UTFSM\\memoria\\tareas\\tarea03\\tst\\config_base.txt\"\n",
    "\n",
    "#genera archivo de config en base a los dos anteriores\n",
    "config_txt=genera_config_txt(txt_deformacion,config_base)"
   ]
  },
  {
   "cell_type": "code",
   "execution_count": 92,
   "metadata": {
    "execution": {
     "iopub.execute_input": "2020-08-31T19:49:27.416731Z",
     "iopub.status.busy": "2020-08-31T19:49:27.415741Z",
     "iopub.status.idle": "2020-08-31T19:49:27.488729Z",
     "shell.execute_reply": "2020-08-31T19:49:27.484732Z",
     "shell.execute_reply.started": "2020-08-31T19:49:27.416731Z"
    }
   },
   "outputs": [
    {
     "name": "stdout",
     "output_type": "stream",
     "text": [
      "G:\\My Drive\\UTFSM\\memoria\\tareas\\tarea03\\tst\\run_z2ap000020.sh\n"
     ]
    }
   ],
   "source": [
    "sh_base=r\"G:\\My Drive\\UTFSM\\memoria\\tareas\\tarea03\\tst\\run_base.sh\"\n",
    "\n",
    "sh_nuevo=genera_sh(sh_base,config_txt)"
   ]
  },
  {
   "cell_type": "code",
   "execution_count": null,
   "metadata": {},
   "outputs": [],
   "source": []
  }
 ],
 "metadata": {
  "kernelspec": {
   "display_name": "Python 3",
   "language": "python",
   "name": "python3"
  },
  "language_info": {
   "codemirror_mode": {
    "name": "ipython",
    "version": 3
   },
   "file_extension": ".py",
   "mimetype": "text/x-python",
   "name": "python",
   "nbconvert_exporter": "python",
   "pygments_lexer": "ipython3",
   "version": "3.8.3"
  }
 },
 "nbformat": 4,
 "nbformat_minor": 4
}
