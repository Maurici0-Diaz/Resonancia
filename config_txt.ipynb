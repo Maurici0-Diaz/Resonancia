{
 "cells": [
  {
   "cell_type": "code",
   "execution_count": 1,
   "metadata": {
    "execution": {
     "iopub.execute_input": "2020-09-08T20:01:46.901159Z",
     "iopub.status.busy": "2020-09-08T20:01:46.899159Z",
     "iopub.status.idle": "2020-09-08T20:01:47.077153Z",
     "shell.execute_reply": "2020-09-08T20:01:47.073152Z",
     "shell.execute_reply.started": "2020-09-08T20:01:46.901159Z"
    }
   },
   "outputs": [],
   "source": [
    "import os\n",
    "import shutil\n",
    "\n",
    "from leer_txt import leer_txt \n",
    "\n",
    "# Se definen como funciones para que sea mas comodo iterar\n",
    "# en las celdas de más abajo\n",
    "\n",
    "def genera_config_txt(txt_deformacion,config_base,save_dir):\n",
    "    basename=os.path.basename(txt_deformacion)\n",
    "    save_name=os.path.splitext(basename)[0].replace('.','')\n",
    "    \n",
    "    #direccion completa de guardado (incl. nombre de archivo)\n",
    "    config_txt=os.path.join(save_dir,'config_'+save_name+'.txt')\n",
    "    \n",
    "    lineas_base=leer_txt(config_base)\n",
    "    lineas_deformacion=leer_txt(txt_deformacion)\n",
    "    \n",
    "    n_faults=len(lineas_deformacion) #Numero de fallas \n",
    "    linea_nfallas=4 # Linea del archivo config con cantidad de fallas\n",
    "    \n",
    "    # Agrega cantidad de fallas a la linea correspondiente\n",
    "    lineas_base[linea_nfallas]=str(n_faults)+lineas_base[linea_nfallas]\n",
    "    \n",
    "    # Agrega lineas de deformacion\n",
    "    linea_base_def=5 # Linea en donde comienzan a anotarse las deformaciones\n",
    "    del(lineas_base[linea_base_def])\n",
    "    i=0\n",
    "    for line in lineas_deformacion:\n",
    "        \n",
    "        line=line.split(' ')\n",
    "        line[1]=str(float(line[1])+360)\n",
    "        line=' '.join(line)\n",
    "        \n",
    "        lineas_base.insert(i+linea_base_def,line)\n",
    "        i=i+1\n",
    "    \n",
    "    # Escribe el archivo .txt\n",
    "    with open(config_txt, 'w', newline='\\n') as writer:\n",
    "        for linea in lineas_base:\n",
    "            writer.write(linea+'\\n')\n",
    "\n",
    "    print(config_txt) # muestra la ubicacion del archivo creado\n",
    "    return config_txt\n",
    "    \n",
    "def genera_sh(sh_base,config,save_dir):\n",
    "    \n",
    "    # Mismo nombre que archivo de config, solo que cambia \"config_\" por \"run_\"\n",
    "    config_name=os.path.basename(config) #incluye \".txt\"\n",
    "    escenario=(os.path.splitext(config_name)[0]).split('_')[1] # quita el \".txt\"\n",
    "    savename='run'\n",
    "    \n",
    "    #direccion completa de guardado\n",
    "    sh_nuevo=os.path.join(save_dir,savename+'.sh')\n",
    "    \n",
    "    lineas_sh=leer_txt(sh_base)\n",
    "    \n",
    "    lineas_sh.insert(2,'#SBATCH -J '+escenario)\n",
    "    \n",
    "    \n",
    "    #borra las dos ultimas lineas y agrega nombre de archivo config\n",
    "    del(lineas_sh[-2:])\n",
    "    lineas_finales=['get_load_balancing-1\\t\\t'+config_name+' 1 1',\n",
    "                    'mpiexec TsunamiHySEA-gpuk-1\\t'+config_name]\n",
    "    lineas_sh.extend(lineas_finales)\n",
    "    \n",
    "    with open(sh_nuevo, 'w', newline='\\n') as writer:\n",
    "        for linea in lineas_sh:\n",
    "            writer.write(linea+'\\n')\n",
    "    \n",
    "    print(sh_nuevo)\n",
    "    return sh_nuevo"
   ]
  },
  {
   "cell_type": "code",
   "execution_count": 4,
   "metadata": {
    "execution": {
     "iopub.execute_input": "2020-09-08T20:02:20.162157Z",
     "iopub.status.busy": "2020-09-08T20:02:20.160160Z",
     "iopub.status.idle": "2020-09-08T20:02:20.188156Z",
     "shell.execute_reply": "2020-09-08T20:02:20.185156Z",
     "shell.execute_reply.started": "2020-09-08T20:02:20.162157Z"
    }
   },
   "outputs": [],
   "source": [
    "# Inputs\n",
    "\n",
    "sh_base=r\"G:\\My Drive\\UTFSM\\compartidos\\HySea - Resonancia\\Modelos\\tarea03\\config1_coq_valp_concon\\run_base.sh\"\n",
    "config_base=r\"G:\\My Drive\\UTFSM\\compartidos\\HySea - Resonancia\\Modelos\\tarea03\\config1_coq_valp_concon\\config_base.txt\"\n",
    "deformaciones_dir=r\"G:\\My Drive\\UTFSM\\compartidos\\HySea - Resonancia\\Modelos\\tarea03\\deformaciones\\mw_8.6\"\n",
    "ts_file=r\"G:\\My Drive\\UTFSM\\compartidos\\HySea - Resonancia\\Modelos\\tarea03\\config1_coq_valp_concon\\ts_config1.xy\"\n",
    "\n",
    "save_dir=r\"G:\\My Drive\\UTFSM\\compartidos\\HySea - Resonancia\\Modelos\\tarea03\\config1_coq_valp_concon\\mw_8.6\""
   ]
  },
  {
   "cell_type": "code",
   "execution_count": 5,
   "metadata": {
    "execution": {
     "iopub.execute_input": "2020-09-08T20:02:21.480155Z",
     "iopub.status.busy": "2020-09-08T20:02:21.478154Z",
     "iopub.status.idle": "2020-09-08T20:02:24.696158Z",
     "shell.execute_reply": "2020-09-08T20:02:24.692162Z",
     "shell.execute_reply.started": "2020-09-08T20:02:21.480155Z"
    }
   },
   "outputs": [
    {
     "name": "stdout",
     "output_type": "stream",
     "text": [
      "G:\\My Drive\\UTFSM\\compartidos\\HySea - Resonancia\\Modelos\\tarea03\\config1_coq_valp_concon\\mw_8.6\\z2ap000002\n",
      "G:\\My Drive\\UTFSM\\compartidos\\HySea - Resonancia\\Modelos\\tarea03\\config1_coq_valp_concon\\mw_8.6\\z2ap000002\\config_z2ap000002.txt\n",
      "G:\\My Drive\\UTFSM\\compartidos\\HySea - Resonancia\\Modelos\\tarea03\\config1_coq_valp_concon\\mw_8.6\\z2ap000002\\run.sh\n",
      "\n",
      "G:\\My Drive\\UTFSM\\compartidos\\HySea - Resonancia\\Modelos\\tarea03\\config1_coq_valp_concon\\mw_8.6\\z2ap000000\n",
      "G:\\My Drive\\UTFSM\\compartidos\\HySea - Resonancia\\Modelos\\tarea03\\config1_coq_valp_concon\\mw_8.6\\z2ap000000\\config_z2ap000000.txt\n",
      "G:\\My Drive\\UTFSM\\compartidos\\HySea - Resonancia\\Modelos\\tarea03\\config1_coq_valp_concon\\mw_8.6\\z2ap000000\\run.sh\n",
      "\n",
      "G:\\My Drive\\UTFSM\\compartidos\\HySea - Resonancia\\Modelos\\tarea03\\config1_coq_valp_concon\\mw_8.6\\z2ap000001\n",
      "G:\\My Drive\\UTFSM\\compartidos\\HySea - Resonancia\\Modelos\\tarea03\\config1_coq_valp_concon\\mw_8.6\\z2ap000001\\config_z2ap000001.txt\n",
      "G:\\My Drive\\UTFSM\\compartidos\\HySea - Resonancia\\Modelos\\tarea03\\config1_coq_valp_concon\\mw_8.6\\z2ap000001\\run.sh\n",
      "\n"
     ]
    }
   ],
   "source": [
    "# recorre una carpeta con deformaciones,\n",
    "# crea una carpeta por cada informacion y\n",
    "# genera config.txt, run.sh y agrega archivo.ts\n",
    "\n",
    "with os.scandir(deformaciones_dir) as entries:\n",
    "    for entry in entries:\n",
    "        if entry.is_file():\n",
    "            if entry.name.endswith(\".txt\"):\n",
    "                folder_name=os.path.splitext(entry.name)[0].replace('.','')\n",
    "                save_dir_def=os.path.join(save_dir,folder_name)\n",
    "                os.mkdir(save_dir_def) #crea carpeta en nueva direccion\n",
    "    \n",
    "                txt_deformacion=os.path.abspath(entry)\n",
    "                \n",
    "                print(save_dir_def)\n",
    "                config_txt=genera_config_txt(txt_deformacion,config_base,save_dir_def)\n",
    "                genera_sh(sh_base,config_txt,save_dir_def)\n",
    "                shutil.copy(ts_file, save_dir_def)\n",
    "                print()"
   ]
  },
  {
   "cell_type": "code",
   "execution_count": null,
   "metadata": {},
   "outputs": [],
   "source": []
  }
 ],
 "metadata": {
  "kernelspec": {
   "display_name": "Python 3",
   "language": "python",
   "name": "python3"
  },
  "language_info": {
   "codemirror_mode": {
    "name": "ipython",
    "version": 3
   },
   "file_extension": ".py",
   "mimetype": "text/x-python",
   "name": "python",
   "nbconvert_exporter": "python",
   "pygments_lexer": "ipython3",
   "version": "3.8.3"
  }
 },
 "nbformat": 4,
 "nbformat_minor": 4
}
