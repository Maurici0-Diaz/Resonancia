{
 "cells": [
  {
   "cell_type": "code",
   "execution_count": 111,
   "metadata": {
    "execution": {
     "iopub.execute_input": "2020-08-31T07:18:30.999344Z",
     "iopub.status.busy": "2020-08-31T07:18:30.998347Z",
     "iopub.status.idle": "2020-08-31T07:18:31.033353Z",
     "shell.execute_reply": "2020-08-31T07:18:31.029344Z",
     "shell.execute_reply.started": "2020-08-31T07:18:30.999344Z"
    }
   },
   "outputs": [],
   "source": [
    "def genera_config_txt(txt_deformacion,config_base):\n",
    "    from leer_txt import leer_txt\n",
    "    import os\n",
    "    \n",
    "    # Guarda el archivo en la misma direccion que el\n",
    "    # archivo de configuracion base\n",
    "    save_dir=os.path.dirname(config_base) \n",
    "    basename=os.path.basename(txt_deformacion)\n",
    "    save_name=os.path.splitext(basename)[0].replace('.','')\n",
    "    \n",
    "    #direccion completa de guardado (incl. nombre de archivo)\n",
    "    config_txt=os.path.join(save_dir,'config_'+save_name+'.txt')\n",
    "    \n",
    "    lineas_base=leer_txt(config_base)\n",
    "    lineas_deformacion=leer_txt(txt_deformacion)\n",
    "    n_faults=len(lineas_deformacion) #Numero de fallas \n",
    "    linea_nfallas=4 # Linea del archivo config con  cantidad de fallas\n",
    "    \n",
    "    # Agrega cantidad de fallas a la linea correspondiente\n",
    "    lineas_base[linea_nfallas]=str(n_faults)+lineas_base[linea_nfallas]\n",
    "    \n",
    "    # Agrega lineas de deformacion\n",
    "    linea_base_def=5 # Linea en donde comienzan a anotarse las deformaciones\n",
    "    del(lineas_base[linea_base_def])\n",
    "    i=0\n",
    "    for line in lineas_deformacion:\n",
    "        lineas_base.insert(i+linea_base_def,line)\n",
    "        i=i+1\n",
    "    \n",
    "    # Escribe el archivo .txt\n",
    "    with open(config_txt, 'w') as writer:\n",
    "        for linea in lineas_base:\n",
    "            writer.write(linea+'\\n')"
   ]
  },
  {
   "cell_type": "code",
   "execution_count": 112,
   "metadata": {
    "execution": {
     "iopub.execute_input": "2020-08-31T07:18:31.524350Z",
     "iopub.status.busy": "2020-08-31T07:18:31.523347Z",
     "iopub.status.idle": "2020-08-31T07:18:31.537343Z",
     "shell.execute_reply": "2020-08-31T07:18:31.533349Z",
     "shell.execute_reply.started": "2020-08-31T07:18:31.524350Z"
    }
   },
   "outputs": [],
   "source": [
    "#archivos de input\n",
    "txt_deformacion=r\"G:\\My Drive\\UTFSM\\memoria\\tareas\\deformaciones_nati\\tst\\z2ap.000020.txt\"\n",
    "config_base=r\"G:\\My Drive\\UTFSM\\memoria\\tareas\\deformaciones_nati\\tst\\config_base.txt\""
   ]
  },
  {
   "cell_type": "code",
   "execution_count": 113,
   "metadata": {
    "execution": {
     "iopub.execute_input": "2020-08-31T07:18:31.975819Z",
     "iopub.status.busy": "2020-08-31T07:18:31.973817Z",
     "iopub.status.idle": "2020-08-31T07:18:32.174347Z",
     "shell.execute_reply": "2020-08-31T07:18:32.171344Z",
     "shell.execute_reply.started": "2020-08-31T07:18:31.974819Z"
    }
   },
   "outputs": [],
   "source": [
    "genera_config_txt(txt_deformacion,config_base)"
   ]
  },
  {
   "cell_type": "code",
   "execution_count": null,
   "metadata": {},
   "outputs": [],
   "source": []
  }
 ],
 "metadata": {
  "kernelspec": {
   "display_name": "Python 3",
   "language": "python",
   "name": "python3"
  },
  "language_info": {
   "codemirror_mode": {
    "name": "ipython",
    "version": 3
   },
   "file_extension": ".py",
   "mimetype": "text/x-python",
   "name": "python",
   "nbconvert_exporter": "python",
   "pygments_lexer": "ipython3",
   "version": "3.8.3"
  }
 },
 "nbformat": 4,
 "nbformat_minor": 4
}
